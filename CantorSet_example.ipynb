{
 "cells": [
  {
   "cell_type": "markdown",
   "metadata": {},
   "source": [
    "Notebook instructions:\n",
    "* To run the whole notebook, click the fast-forward double arrow above.\n",
    "* The 'Run' button only runs individual cells of code\n",
    "* I suggest playing with the parameters in the second grey cell, `[2]`\n",
    "* The parameter `h=0.025` in the cell `[10]` controls the resolution of the domain plot. Increasing this will improve the resolution, but it will take longer to run."
   ]
  },
  {
   "cell_type": "markdown",
   "metadata": {},
   "source": [
    "# $\\mathcal{H}$-BEM - scattering by a Cantor set ($n=2$)\n",
    "First example...\n",
    "* Uses Galerkin, but we will see collocation is straightforward too\n",
    "* Uses *singularity subtraction*, but defaults to Andrea's *near miss* quadrature if less information about the kernel is provided."
   ]
  },
  {
   "cell_type": "code",
   "execution_count": 1,
   "metadata": {},
   "outputs": [],
   "source": [
    "include(\"src/HausdorffBEM.jl\")\n",
    "using .HausdorffBEM"
   ]
  },
  {
   "cell_type": "markdown",
   "metadata": {},
   "source": [
    "Define problem parameters:\n",
    "* Cantor set $\\Gamma$\n",
    "* wavenumber $k$\n",
    "* incident wave $u^{\\mathrm{inc}}(x)=e^{\\mathrm{i}kx\\cdot d}$   \n",
    "\n",
    "These are the parameters which might be fun to play with :-)"
   ]
  },
  {
   "cell_type": "code",
   "execution_count": 2,
   "metadata": {},
   "outputs": [],
   "source": [
    "α = 0.42 #contraction factor\n",
    "Γ = CantorLine(α)\n",
    "k = 20.0\n",
    "d = [1/sqrt(3),1/sqrt(3)]\n",
    "uinc(x_1::Float64, x_2::Float64) = exp.(im*k*(x_1*d[1] + x_2*d[2]));"
   ]
  },
  {
   "cell_type": "markdown",
   "metadata": {},
   "source": [
    "Now check $\\mathrm{dim}_H\\Gamma$"
   ]
  },
  {
   "cell_type": "code",
   "execution_count": 3,
   "metadata": {},
   "outputs": [
    {
     "data": {
      "text/plain": [
       "0.799016399947621"
      ]
     },
     "execution_count": 3,
     "metadata": {},
     "output_type": "execute_result"
    }
   ],
   "source": [
    "dimH(Γ)"
   ]
  },
  {
   "cell_type": "markdown",
   "metadata": {},
   "source": [
    "Assign to `Φ` the following kernel object, which contains information necessary to subtract the singularity, and integrate seperately."
   ]
  },
  {
   "cell_type": "code",
   "execution_count": 4,
   "metadata": {},
   "outputs": [
    {
     "name": "stdout",
     "output_type": "stream",
     "text": [
      "KernelSingInfo"
     ]
    }
   ],
   "source": [
    "Φ = Helmholtz2DscreenKernel(Γ, k)\n",
    "print(typeof(Φ))"
   ]
  },
  {
   "cell_type": "markdown",
   "metadata": {},
   "source": [
    "The 'type' of `Φ` is `KernelSingInfo`. This type contains all of the information necessary to subtract and integrate the singular component separately. "
   ]
  },
  {
   "cell_type": "markdown",
   "metadata": {},
   "source": [
    "Now define the RHS data $f:=u^{\\mathrm{inc}}|_\\Gamma$"
   ]
  },
  {
   "cell_type": "code",
   "execution_count": 5,
   "metadata": {},
   "outputs": [],
   "source": [
    "f(x_1::Float64) = uinc(x_1,0.0);"
   ]
  },
  {
   "cell_type": "markdown",
   "metadata": {},
   "source": [
    "Now define approximation parameters $\\ell$ and $Q$, where we have $4^\\ell$ DOFs and each integral is approximated with $4^Q$ quadrature points:"
   ]
  },
  {
   "cell_type": "code",
   "execution_count": 6,
   "metadata": {},
   "outputs": [],
   "source": [
    "ℓ = 7\n",
    "Q = 3;"
   ]
  },
  {
   "cell_type": "markdown",
   "metadata": {},
   "source": [
    "Construct the basis $V$, and project it onto the solution space:"
   ]
  },
  {
   "cell_type": "code",
   "execution_count": 7,
   "metadata": {},
   "outputs": [
    {
     "name": "stdout",
     "output_type": "stream",
     "text": [
      "solving linear system... done."
     ]
    },
    {
     "name": "stderr",
     "output_type": "stream",
     "text": [
      "\r",
      "\u001b[32mConstructing BEM system   2%|▋                          |  ETA: 0:00:43\u001b[39m\r",
      "\u001b[32mConstructing BEM system  20%|█████▎                     |  ETA: 0:00:10\u001b[39m\r",
      "\u001b[32mConstructing BEM system  36%|█████████▊                 |  ETA: 0:00:06\u001b[39m\r",
      "\u001b[32mConstructing BEM system  51%|█████████████▊             |  ETA: 0:00:04\u001b[39m\r",
      "\u001b[32mConstructing BEM system  68%|██████████████████▍        |  ETA: 0:00:03\u001b[39m\r",
      "\u001b[32mConstructing BEM system  86%|███████████████████████▎   |  ETA: 0:00:01\u001b[39m\r",
      "\u001b[32mConstructing BEM system 100%|███████████████████████████| Time: 0:00:07\u001b[39m\n"
     ]
    }
   ],
   "source": [
    "V = MakeBasis(Γ,ℓ)\n",
    "coeffs = hBEMsolve(Φ,f,V,Q);"
   ]
  },
  {
   "cell_type": "markdown",
   "metadata": {},
   "source": [
    "This is a projection $v_N(x)=\\sum_{n=1}^N a_n\\phi_n(x)$ for $x\\in\\Gamma$, satisying the Galerkin condition\n",
    "$\\left<S_kv_N,\\phi_m\\right> = \\left<f,\\phi_m\\right>$ for $m=1,\\ldots,N$ where the inner product is taken with respect to the Hausdorff measure."
   ]
  },
  {
   "cell_type": "markdown",
   "metadata": {},
   "source": [
    "# Alternative ways to BEM"
   ]
  },
  {
   "cell_type": "markdown",
   "metadata": {},
   "source": [
    "If less information is provided about the Kernel, `hBEMsolve` defaults to Andrea's *near miss* quadrature:"
   ]
  },
  {
   "cell_type": "code",
   "execution_count": 8,
   "metadata": {},
   "outputs": [
    {
     "name": "stderr",
     "output_type": "stream",
     "text": [
      "\u001b[32mConstructing BEM system  91%|████████████████████████▋  |  ETA: 0:00:01\u001b[39m"
     ]
    },
    {
     "name": "stdout",
     "output_type": "stream",
     "text": [
      "solving linear system... done."
     ]
    },
    {
     "name": "stderr",
     "output_type": "stream",
     "text": [
      "\r",
      "\u001b[32mConstructing BEM system 100%|███████████████████████████| Time: 0:00:08\u001b[39m\n"
     ]
    },
    {
     "data": {
      "text/plain": [
       "2.9698697310292264e-5"
      ]
     },
     "execution_count": 8,
     "metadata": {},
     "output_type": "execute_result"
    }
   ],
   "source": [
    "using SpecialFunctions\n",
    "Φ_nearmiss(x::Float64, y::Float64) = im/4*besselh(0,1,k*abs(x-y))\n",
    "\n",
    "coeffs_near_miss = hBEMsolve(Φ_nearmiss, f, V, Q)\n",
    "\n",
    "sum(abs.(coeffs-coeffs_near_miss).^2)/sum(abs.(coeffs).^2)"
   ]
  },
  {
   "cell_type": "markdown",
   "metadata": {},
   "source": [
    "Above is the $\\ell^2$ norm of the error in the coefficient norms, using *near miss* vs *singularity subtraction* quadrature"
   ]
  },
  {
   "cell_type": "markdown",
   "metadata": {},
   "source": [
    "Similarly, one can do collocation BEM, where the constraint is\n",
    "$S_kv_N(x_m) = f(x_m),$ for $m=1,\\ldots,N$:"
   ]
  },
  {
   "cell_type": "code",
   "execution_count": 8,
   "metadata": {},
   "outputs": [
    {
     "name": "stdout",
     "output_type": "stream",
     "text": [
      "solving linear system... done."
     ]
    },
    {
     "name": "stderr",
     "output_type": "stream",
     "text": [
      "\r",
      "\u001b[32mConstructing BEM system  49%|█████████████▎             |  ETA: 0:00:01\u001b[39m\r",
      "\u001b[32mConstructing BEM system 100%|███████████████████████████| Time: 0:00:02\u001b[39m\n"
     ]
    },
    {
     "data": {
      "text/plain": [
       "0.00017737711694827067"
      ]
     },
     "execution_count": 8,
     "metadata": {},
     "output_type": "execute_result"
    }
   ],
   "source": [
    "Δ = getCollocationTestBasis(V)\n",
    "\n",
    "coeffs_collocation = hBEMsolve(Φ,f,V,Δ,Q)\n",
    "\n",
    "sum(abs.(coeffs-coeffs_collocation).^2)/sum(abs.(coeffs).^2)"
   ]
  },
  {
   "cell_type": "markdown",
   "metadata": {},
   "source": []
  },
  {
   "cell_type": "markdown",
   "metadata": {},
   "source": [
    "Above is the $\\ell^2$ norm of the error in the coefficient norms, using *Galerkin vs collocation* BEM."
   ]
  },
  {
   "cell_type": "markdown",
   "metadata": {},
   "source": [
    "# Outputs"
   ]
  },
  {
   "cell_type": "markdown",
   "metadata": {},
   "source": [
    "Plot near field\n",
    "$u:=u^{\\mathrm{inc}} - \\mathcal{S}v_N$"
   ]
  },
  {
   "cell_type": "code",
   "execution_count": 10,
   "metadata": {},
   "outputs": [
    {
     "name": "stderr",
     "output_type": "stream",
     "text": [
      "\u001b[32mComputing scattered field 100%|█████████████████████████| Time: 0:01:26\u001b[39m\n"
     ]
    },
    {
     "ename": "InterruptException",
     "evalue": "InterruptException:",
     "output_type": "error",
     "traceback": [
      "InterruptException:",
      "",
      "Stacktrace:",
      " [1] inqtext at /Users/andrew/.julia/packages/GR/Atztx/src/GR.jl:628 [inlined]",
      " [2] gr_inqtext(::Int64, ::Int64, ::String) at /Users/andrew/.julia/packages/Plots/WwFyB/src/backends/gr.jl:153",
      " [3] gr_text_size(::String) at /Users/andrew/.julia/packages/Plots/WwFyB/src/backends/gr.jl:703",
      " [4] _update_min_padding!(::Plots.Subplot{Plots.GRBackend}) at /Users/andrew/.julia/packages/Plots/WwFyB/src/backends/gr.jl:776",
      " [5] iterate at ./generator.jl:47 [inlined]",
      " [6] _collect(::Array{AbstractLayout,2}, ::Base.Generator{Array{AbstractLayout,2},typeof(Plots._update_min_padding!)}, ::Base.EltypeUnknown, ::Base.HasShape{2}) at ./array.jl:635",
      " [7] collect_similar(::Array{AbstractLayout,2}, ::Base.Generator{Array{AbstractLayout,2},typeof(Plots._update_min_padding!)}) at ./array.jl:564",
      " [8] map(::Function, ::Array{AbstractLayout,2}) at ./abstractarray.jl:2073",
      " [9] _update_min_padding!(::Plots.GridLayout) at /Users/andrew/.julia/packages/Plots/WwFyB/src/layouts.jl:310",
      " [10] prepare_output(::Plots.Plot{Plots.GRBackend}) at /Users/andrew/.julia/packages/Plots/WwFyB/src/plot.jl:261",
      " [11] show(::Base.GenericIOBuffer{Array{UInt8,1}}, ::MIME{Symbol(\"image/svg+xml\")}, ::Plots.Plot{Plots.GRBackend}) at /Users/andrew/.julia/packages/Plots/WwFyB/src/output.jl:198",
      " [12] #sprint#339(::Nothing, ::Int64, ::typeof(sprint), ::Function, ::MIME{Symbol(\"image/svg+xml\")}, ::Vararg{Any,N} where N) at ./strings/io.jl:105",
      " [13] sprint(::Function, ::MIME{Symbol(\"image/svg+xml\")}, ::Vararg{Any,N} where N) at ./strings/io.jl:101",
      " [14] _ijulia_display_dict(::Plots.Plot{Plots.GRBackend}) at /Users/andrew/.julia/packages/Plots/WwFyB/src/ijulia.jl:53",
      " [15] display_dict(::Plots.Plot{Plots.GRBackend}) at /Users/andrew/.julia/packages/Plots/WwFyB/src/init.jl:71",
      " [16] #invokelatest#1 at ./essentials.jl:709 [inlined]",
      " [17] invokelatest at ./essentials.jl:708 [inlined]",
      " [18] execute_request(::ZMQ.Socket, ::IJulia.Msg) at /Users/andrew/.julia/packages/IJulia/DrVMH/src/execute_request.jl:112",
      " [19] #invokelatest#1 at ./essentials.jl:709 [inlined]",
      " [20] invokelatest at ./essentials.jl:708 [inlined]",
      " [21] eventloop(::ZMQ.Socket) at /Users/andrew/.julia/packages/IJulia/DrVMH/src/eventloop.jl:8",
      " [22] (::IJulia.var\"#15#18\")() at ./task.jl:333"
     ]
    }
   ],
   "source": [
    "using Plots\n",
    "h=0.025 # adujust this for more acurate / faster plots\n",
    "x_1 = [j for j=-1:h:2]\n",
    "x_2 = [j for j=-1:h:1]\n",
    "X_1 = repeat(x_1, outer=(1,length(x_2)))\n",
    "X_2 = copy(transpose(repeat(x_2, outer=(1,length(x_1)))))\n",
    "\n",
    "u_s = SLP(k, V, coeffs, X_1, X_2)\n",
    "u_t = uinc.(X_1,X_2) - u_s\n",
    "heatmap(x_1,x_2,transpose(real(u_t)),  aspect_ratio = 1, title=\"Total field\", legend=true)\n",
    "xlabel!(\"x\")\n",
    "ylabel!(\"y\")\n",
    "draw(V)\n",
    "current()"
   ]
  },
  {
   "cell_type": "markdown",
   "metadata": {},
   "source": [
    "Now get far-field pattern:"
   ]
  },
  {
   "cell_type": "code",
   "execution_count": 11,
   "metadata": {},
   "outputs": [
    {
     "data": {
      "image/svg+xml": [
       "<?xml version=\"1.0\" encoding=\"utf-8\"?>\n",
       "<svg xmlns=\"http://www.w3.org/2000/svg\" xmlns:xlink=\"http://www.w3.org/1999/xlink\" width=\"600\" height=\"400\" viewBox=\"0 0 2400 1600\">\n",
       "<defs>\n",
       "  <clipPath id=\"clip870\">\n",
       "    <rect x=\"0\" y=\"0\" width=\"2400\" height=\"1600\"/>\n",
       "  </clipPath>\n",
       "</defs>\n",
       "<path clip-path=\"url(#clip870)\" d=\"\n",
       "M0 1600 L2400 1600 L2400 0 L0 0  Z\n",
       "  \" fill=\"#ffffff\" fill-rule=\"evenodd\" fill-opacity=\"1\"/>\n",
       "<defs>\n",
       "  <clipPath id=\"clip871\">\n",
       "    <rect x=\"480\" y=\"0\" width=\"1681\" height=\"1600\"/>\n",
       "  </clipPath>\n",
       "</defs>\n",
       "<path clip-path=\"url(#clip870)\" d=\"\n",
       "M168.627 1425.62 L2352.76 1425.62 L2352.76 121.675 L168.627 121.675  Z\n",
       "  \" fill=\"#ffffff\" fill-rule=\"evenodd\" fill-opacity=\"1\"/>\n",
       "<defs>\n",
       "  <clipPath id=\"clip872\">\n",
       "    <rect x=\"168\" y=\"121\" width=\"2185\" height=\"1305\"/>\n",
       "  </clipPath>\n",
       "</defs>\n",
       "<polyline clip-path=\"url(#clip872)\" style=\"stroke:#000000; stroke-width:1.6; stroke-opacity:0.1; fill:none\" points=\"\n",
       "  230.442,1425.62 230.442,121.675 \n",
       "  \"/>\n",
       "<polyline clip-path=\"url(#clip872)\" style=\"stroke:#000000; stroke-width:1.6; stroke-opacity:0.1; fill:none\" points=\"\n",
       "  558.38,1425.62 558.38,121.675 \n",
       "  \"/>\n",
       "<polyline clip-path=\"url(#clip872)\" style=\"stroke:#000000; stroke-width:1.6; stroke-opacity:0.1; fill:none\" points=\"\n",
       "  886.319,1425.62 886.319,121.675 \n",
       "  \"/>\n",
       "<polyline clip-path=\"url(#clip872)\" style=\"stroke:#000000; stroke-width:1.6; stroke-opacity:0.1; fill:none\" points=\"\n",
       "  1214.26,1425.62 1214.26,121.675 \n",
       "  \"/>\n",
       "<polyline clip-path=\"url(#clip872)\" style=\"stroke:#000000; stroke-width:1.6; stroke-opacity:0.1; fill:none\" points=\"\n",
       "  1542.2,1425.62 1542.2,121.675 \n",
       "  \"/>\n",
       "<polyline clip-path=\"url(#clip872)\" style=\"stroke:#000000; stroke-width:1.6; stroke-opacity:0.1; fill:none\" points=\"\n",
       "  1870.13,1425.62 1870.13,121.675 \n",
       "  \"/>\n",
       "<polyline clip-path=\"url(#clip872)\" style=\"stroke:#000000; stroke-width:1.6; stroke-opacity:0.1; fill:none\" points=\"\n",
       "  2198.07,1425.62 2198.07,121.675 \n",
       "  \"/>\n",
       "<polyline clip-path=\"url(#clip872)\" style=\"stroke:#000000; stroke-width:1.6; stroke-opacity:0.1; fill:none\" points=\"\n",
       "  168.627,1196.97 2352.76,1196.97 \n",
       "  \"/>\n",
       "<polyline clip-path=\"url(#clip872)\" style=\"stroke:#000000; stroke-width:1.6; stroke-opacity:0.1; fill:none\" points=\"\n",
       "  168.627,954.617 2352.76,954.617 \n",
       "  \"/>\n",
       "<polyline clip-path=\"url(#clip872)\" style=\"stroke:#000000; stroke-width:1.6; stroke-opacity:0.1; fill:none\" points=\"\n",
       "  168.627,712.267 2352.76,712.267 \n",
       "  \"/>\n",
       "<polyline clip-path=\"url(#clip872)\" style=\"stroke:#000000; stroke-width:1.6; stroke-opacity:0.1; fill:none\" points=\"\n",
       "  168.627,469.917 2352.76,469.917 \n",
       "  \"/>\n",
       "<polyline clip-path=\"url(#clip872)\" style=\"stroke:#000000; stroke-width:1.6; stroke-opacity:0.1; fill:none\" points=\"\n",
       "  168.627,227.567 2352.76,227.567 \n",
       "  \"/>\n",
       "<polyline clip-path=\"url(#clip870)\" style=\"stroke:#000000; stroke-width:3.2; stroke-opacity:1; fill:none\" points=\"\n",
       "  168.627,1425.62 2352.76,1425.62 \n",
       "  \"/>\n",
       "<polyline clip-path=\"url(#clip870)\" style=\"stroke:#000000; stroke-width:3.2; stroke-opacity:1; fill:none\" points=\"\n",
       "  168.627,1425.62 168.627,121.675 \n",
       "  \"/>\n",
       "<polyline clip-path=\"url(#clip870)\" style=\"stroke:#000000; stroke-width:3.2; stroke-opacity:1; fill:none\" points=\"\n",
       "  230.442,1425.62 230.442,1406.06 \n",
       "  \"/>\n",
       "<polyline clip-path=\"url(#clip870)\" style=\"stroke:#000000; stroke-width:3.2; stroke-opacity:1; fill:none\" points=\"\n",
       "  558.38,1425.62 558.38,1406.06 \n",
       "  \"/>\n",
       "<polyline clip-path=\"url(#clip870)\" style=\"stroke:#000000; stroke-width:3.2; stroke-opacity:1; fill:none\" points=\"\n",
       "  886.319,1425.62 886.319,1406.06 \n",
       "  \"/>\n",
       "<polyline clip-path=\"url(#clip870)\" style=\"stroke:#000000; stroke-width:3.2; stroke-opacity:1; fill:none\" points=\"\n",
       "  1214.26,1425.62 1214.26,1406.06 \n",
       "  \"/>\n",
       "<polyline clip-path=\"url(#clip870)\" style=\"stroke:#000000; stroke-width:3.2; stroke-opacity:1; fill:none\" points=\"\n",
       "  1542.2,1425.62 1542.2,1406.06 \n",
       "  \"/>\n",
       "<polyline clip-path=\"url(#clip870)\" style=\"stroke:#000000; stroke-width:3.2; stroke-opacity:1; fill:none\" points=\"\n",
       "  1870.13,1425.62 1870.13,1406.06 \n",
       "  \"/>\n",
       "<polyline clip-path=\"url(#clip870)\" style=\"stroke:#000000; stroke-width:3.2; stroke-opacity:1; fill:none\" points=\"\n",
       "  2198.07,1425.62 2198.07,1406.06 \n",
       "  \"/>\n",
       "<polyline clip-path=\"url(#clip870)\" style=\"stroke:#000000; stroke-width:3.2; stroke-opacity:1; fill:none\" points=\"\n",
       "  168.627,1196.97 201.389,1196.97 \n",
       "  \"/>\n",
       "<polyline clip-path=\"url(#clip870)\" style=\"stroke:#000000; stroke-width:3.2; stroke-opacity:1; fill:none\" points=\"\n",
       "  168.627,954.617 201.389,954.617 \n",
       "  \"/>\n",
       "<polyline clip-path=\"url(#clip870)\" style=\"stroke:#000000; stroke-width:3.2; stroke-opacity:1; fill:none\" points=\"\n",
       "  168.627,712.267 201.389,712.267 \n",
       "  \"/>\n",
       "<polyline clip-path=\"url(#clip870)\" style=\"stroke:#000000; stroke-width:3.2; stroke-opacity:1; fill:none\" points=\"\n",
       "  168.627,469.917 201.389,469.917 \n",
       "  \"/>\n",
       "<polyline clip-path=\"url(#clip870)\" style=\"stroke:#000000; stroke-width:3.2; stroke-opacity:1; fill:none\" points=\"\n",
       "  168.627,227.567 201.389,227.567 \n",
       "  \"/>\n",
       "<g clip-path=\"url(#clip870)\">\n",
       "<text style=\"fill:#000000; fill-opacity:1; font-family:Arial,Helvetica Neue,Helvetica,sans-serif; font-size:48px; text-anchor:middle;\" transform=\"rotate(0, 230.442, 1479.62)\" x=\"230.442\" y=\"1479.62\">0</text>\n",
       "</g>\n",
       "<g clip-path=\"url(#clip870)\">\n",
       "<text style=\"fill:#000000; fill-opacity:1; font-family:Arial,Helvetica Neue,Helvetica,sans-serif; font-size:48px; text-anchor:middle;\" transform=\"rotate(0, 558.38, 1479.62)\" x=\"558.38\" y=\"1479.62\">1</text>\n",
       "</g>\n",
       "<g clip-path=\"url(#clip870)\">\n",
       "<text style=\"fill:#000000; fill-opacity:1; font-family:Arial,Helvetica Neue,Helvetica,sans-serif; font-size:48px; text-anchor:middle;\" transform=\"rotate(0, 886.319, 1479.62)\" x=\"886.319\" y=\"1479.62\">2</text>\n",
       "</g>\n",
       "<g clip-path=\"url(#clip870)\">\n",
       "<text style=\"fill:#000000; fill-opacity:1; font-family:Arial,Helvetica Neue,Helvetica,sans-serif; font-size:48px; text-anchor:middle;\" transform=\"rotate(0, 1214.26, 1479.62)\" x=\"1214.26\" y=\"1479.62\">3</text>\n",
       "</g>\n",
       "<g clip-path=\"url(#clip870)\">\n",
       "<text style=\"fill:#000000; fill-opacity:1; font-family:Arial,Helvetica Neue,Helvetica,sans-serif; font-size:48px; text-anchor:middle;\" transform=\"rotate(0, 1542.2, 1479.62)\" x=\"1542.2\" y=\"1479.62\">4</text>\n",
       "</g>\n",
       "<g clip-path=\"url(#clip870)\">\n",
       "<text style=\"fill:#000000; fill-opacity:1; font-family:Arial,Helvetica Neue,Helvetica,sans-serif; font-size:48px; text-anchor:middle;\" transform=\"rotate(0, 1870.13, 1479.62)\" x=\"1870.13\" y=\"1479.62\">5</text>\n",
       "</g>\n",
       "<g clip-path=\"url(#clip870)\">\n",
       "<text style=\"fill:#000000; fill-opacity:1; font-family:Arial,Helvetica Neue,Helvetica,sans-serif; font-size:48px; text-anchor:middle;\" transform=\"rotate(0, 2198.07, 1479.62)\" x=\"2198.07\" y=\"1479.62\">6</text>\n",
       "</g>\n",
       "<g clip-path=\"url(#clip870)\">\n",
       "<text style=\"fill:#000000; fill-opacity:1; font-family:Arial,Helvetica Neue,Helvetica,sans-serif; font-size:48px; text-anchor:end;\" transform=\"rotate(0, 144.627, 1214.47)\" x=\"144.627\" y=\"1214.47\">-20</text>\n",
       "</g>\n",
       "<g clip-path=\"url(#clip870)\">\n",
       "<text style=\"fill:#000000; fill-opacity:1; font-family:Arial,Helvetica Neue,Helvetica,sans-serif; font-size:48px; text-anchor:end;\" transform=\"rotate(0, 144.627, 972.117)\" x=\"144.627\" y=\"972.117\">-10</text>\n",
       "</g>\n",
       "<g clip-path=\"url(#clip870)\">\n",
       "<text style=\"fill:#000000; fill-opacity:1; font-family:Arial,Helvetica Neue,Helvetica,sans-serif; font-size:48px; text-anchor:end;\" transform=\"rotate(0, 144.627, 729.767)\" x=\"144.627\" y=\"729.767\">0</text>\n",
       "</g>\n",
       "<g clip-path=\"url(#clip870)\">\n",
       "<text style=\"fill:#000000; fill-opacity:1; font-family:Arial,Helvetica Neue,Helvetica,sans-serif; font-size:48px; text-anchor:end;\" transform=\"rotate(0, 144.627, 487.417)\" x=\"144.627\" y=\"487.417\">10</text>\n",
       "</g>\n",
       "<g clip-path=\"url(#clip870)\">\n",
       "<text style=\"fill:#000000; fill-opacity:1; font-family:Arial,Helvetica Neue,Helvetica,sans-serif; font-size:48px; text-anchor:end;\" transform=\"rotate(0, 144.627, 245.067)\" x=\"144.627\" y=\"245.067\">20</text>\n",
       "</g>\n",
       "<g clip-path=\"url(#clip870)\">\n",
       "<text style=\"fill:#000000; fill-opacity:1; font-family:Arial,Helvetica Neue,Helvetica,sans-serif; font-size:84px; text-anchor:middle;\" transform=\"rotate(0, 1260.69, 73.2)\" x=\"1260.69\" y=\"73.2\">Far-field pattern</text>\n",
       "</g>\n",
       "<g clip-path=\"url(#clip870)\">\n",
       "<text style=\"fill:#000000; fill-opacity:1; font-family:Arial,Helvetica Neue,Helvetica,sans-serif; font-size:66px; text-anchor:middle;\" transform=\"rotate(0, 1260.69, 1559.48)\" x=\"1260.69\" y=\"1559.48\">observation angle</text>\n",
       "</g>\n",
       "<polyline clip-path=\"url(#clip872)\" style=\"stroke:#009af9; stroke-width:3.2; stroke-opacity:1; fill:none\" points=\"\n",
       "  230.442,794.211 232.504,794.187 234.567,794.116 236.63,793.998 238.692,793.831 240.755,793.616 242.817,793.353 244.88,793.04 246.942,792.678 249.005,792.264 \n",
       "  251.067,791.799 253.13,791.282 255.193,790.711 257.255,790.086 259.318,789.404 261.38,788.666 263.443,787.869 265.505,787.012 267.568,786.094 269.631,785.114 \n",
       "  271.693,784.069 273.756,782.958 275.818,781.781 277.881,780.535 279.943,779.218 282.006,777.83 284.068,776.369 286.131,774.834 288.194,773.223 290.256,771.535 \n",
       "  292.319,769.77 294.381,767.925 296.444,766.002 298.506,763.998 300.569,761.913 302.632,759.749 304.694,757.503 306.757,755.178 308.819,752.773 310.882,750.289 \n",
       "  312.944,747.729 315.007,745.093 317.069,742.385 319.132,739.605 321.195,736.759 323.257,733.848 325.32,730.878 327.382,727.853 329.445,724.779 331.507,721.661 \n",
       "  333.57,718.506 335.633,715.321 337.695,712.115 339.758,708.896 341.82,705.673 343.883,702.457 345.945,699.26 348.008,696.092 350.07,692.966 352.133,689.897 \n",
       "  354.196,686.898 356.258,683.985 358.321,681.173 360.383,678.479 362.446,675.922 364.508,673.518 366.571,671.288 368.633,669.251 370.696,667.427 372.759,665.837 \n",
       "  374.821,664.503 376.884,663.445 378.946,662.687 381.009,662.251 383.071,662.158 385.134,662.432 387.197,663.095 389.259,664.169 391.322,665.675 393.384,667.634 \n",
       "  395.447,670.068 397.509,672.995 399.572,676.434 401.634,680.402 403.697,684.913 405.76,689.983 407.822,695.624 409.885,701.844 411.947,708.651 414.01,716.051 \n",
       "  416.072,724.046 418.135,732.634 420.198,741.811 422.26,751.57 424.323,761.9 426.385,772.785 428.448,784.207 430.51,796.142 432.573,808.563 434.635,821.438 \n",
       "  436.698,834.729 438.761,848.397 440.823,862.394 442.886,876.671 444.948,891.172 447.011,905.838 449.073,920.603 451.136,935.398 453.199,950.152 455.261,964.785 \n",
       "  457.324,979.219 459.386,993.367 461.449,1007.14 463.511,1020.45 465.574,1033.21 467.636,1045.32 469.699,1056.68 471.762,1067.19 473.824,1076.77 475.887,1085.32 \n",
       "  477.949,1092.73 480.012,1098.92 482.074,1103.81 484.137,1107.29 486.2,1109.3 488.262,1109.75 490.325,1108.57 492.387,1105.71 494.45,1101.1 496.512,1094.69 \n",
       "  498.575,1086.46 500.637,1076.36 502.7,1064.39 504.763,1050.54 506.825,1034.8 508.888,1017.2 510.95,997.775 513.013,976.558 515.075,953.609 517.138,928.998 \n",
       "  519.2,902.808 521.263,875.137 523.326,846.093 525.388,815.799 527.451,784.39 529.513,752.012 531.576,718.824 533.638,684.992 535.701,650.693 537.764,616.113 \n",
       "  539.826,581.443 541.889,546.88 543.951,512.625 546.014,478.883 548.076,445.857 550.139,413.753 552.201,382.771 554.264,353.109 556.327,324.958 558.389,298.502 \n",
       "  560.452,273.914 562.514,251.358 564.577,230.982 566.639,212.923 568.702,197.299 570.765,184.211 572.827,173.743 574.89,165.957 576.952,160.896 579.015,158.579 \n",
       "  581.077,159.006 583.14,162.152 585.202,167.969 587.265,176.39 589.328,187.322 591.39,200.651 593.453,216.243 595.515,233.945 597.578,253.583 599.64,274.967 \n",
       "  601.703,297.891 603.766,322.137 605.828,347.472 607.891,373.658 609.953,400.446 612.016,427.584 614.078,454.818 616.141,481.894 618.203,508.561 620.266,534.573 \n",
       "  622.329,559.693 624.391,583.695 626.454,606.365 628.516,627.504 630.579,646.931 632.641,664.484 634.704,680.023 636.767,693.429 638.829,704.608 640.892,713.488 \n",
       "  642.954,720.026 645.017,724.203 647.079,726.024 649.142,725.523 651.204,722.756 653.267,717.804 655.33,710.773 657.392,701.787 659.455,690.994 661.517,678.558 \n",
       "  663.58,664.658 665.642,649.488 667.705,633.255 669.767,616.172 671.83,598.459 673.893,580.34 675.955,562.04 678.018,543.781 680.08,525.78 682.143,508.248 \n",
       "  684.205,491.386 686.268,475.383 688.331,460.414 690.393,446.637 692.456,434.194 694.518,423.207 696.581,413.78 698.643,405.992 700.706,399.904 702.768,395.554 \n",
       "  704.831,392.958 706.894,392.113 708.956,392.991 711.019,395.547 713.081,399.718 715.144,405.421 717.206,412.56 719.269,421.022 721.332,430.685 723.394,441.416 \n",
       "  725.457,453.072 727.519,465.507 729.582,478.57 731.644,492.109 733.707,505.973 735.769,520.014 737.832,534.088 739.895,548.059 741.957,561.798 744.02,575.187 \n",
       "  746.082,588.119 748.145,600.499 750.207,612.245 752.27,623.29 754.333,633.58 756.395,643.075 758.458,651.752 760.52,659.599 762.583,666.619 764.645,672.829 \n",
       "  766.708,678.256 768.77,682.939 770.833,686.927 772.896,690.277 774.958,693.053 777.021,695.326 779.083,697.169 781.146,698.659 783.208,699.873 785.271,700.889 \n",
       "  787.334,701.783 789.396,702.625 791.459,703.485 793.521,704.424 795.584,705.497 797.646,706.751 799.709,708.228 801.771,709.956 803.834,711.958 805.897,714.246 \n",
       "  807.959,716.821 810.022,719.679 812.084,722.801 814.147,726.165 816.209,729.736 818.272,733.476 820.334,737.336 822.397,741.265 824.46,745.204 826.522,749.093 \n",
       "  828.585,752.866 830.647,756.459 832.71,759.805 834.772,762.838 836.835,765.494 838.898,767.711 840.96,769.432 843.023,770.601 845.085,771.172 847.148,771.102 \n",
       "  849.21,770.354 851.273,768.901 853.335,766.721 855.398,763.801 857.461,760.135 859.523,755.726 861.586,750.584 863.648,744.729 865.711,738.186 867.773,730.988 \n",
       "  869.836,723.176 871.899,714.795 873.961,705.898 876.024,696.542 878.086,686.787 880.149,676.7 882.211,666.347 884.274,655.8 886.336,645.128 888.399,634.403 \n",
       "  890.462,623.699 892.524,613.084 894.587,602.628 896.649,592.398 898.712,582.458 900.774,572.868 902.837,563.686 904.9,554.963 906.962,546.747 909.025,539.08 \n",
       "  911.087,532.001 913.15,525.541 915.212,519.727 917.275,514.58 919.337,510.114 921.4,506.341 923.463,503.264 925.525,500.883 927.588,499.193 929.65,498.183 \n",
       "  931.713,497.839 933.775,498.142 935.838,499.07 937.901,500.597 939.963,502.695 942.026,505.332 944.088,508.474 946.151,512.087 948.213,516.133 950.276,520.576 \n",
       "  952.338,525.376 954.401,530.494 956.464,535.892 958.526,541.531 960.589,547.373 962.651,553.382 964.714,559.52 966.776,565.753 968.839,572.048 970.901,578.373 \n",
       "  972.964,584.698 975.027,590.995 977.089,597.237 979.152,603.401 981.214,609.464 983.277,615.406 985.339,621.209 987.402,626.856 989.465,632.334 991.527,637.63 \n",
       "  993.59,642.735 995.652,647.638 997.715,652.334 999.777,656.818 1001.84,661.084 1003.9,665.131 1005.97,668.959 1008.03,672.565 1010.09,675.953 1012.15,679.124 \n",
       "  1014.22,682.081 1016.28,684.827 1018.34,687.368 1020.4,689.708 1022.47,691.852 1024.53,693.807 1026.59,695.579 1028.65,697.174 1030.72,698.598 1032.78,699.859 \n",
       "  1034.84,700.964 1036.9,701.918 1038.97,702.729 1041.03,703.405 1043.09,703.95 1045.15,704.372 1047.22,704.678 1049.28,704.873 1051.34,704.964 1053.4,704.956 \n",
       "  1055.47,704.854 1057.53,704.666 1059.59,704.395 1061.65,704.047 1063.72,703.626 1065.78,703.137 1067.84,702.585 1069.9,701.974 1071.97,701.307 1074.03,700.589 \n",
       "  1076.09,699.824 1078.15,699.014 1080.22,698.164 1082.28,697.276 1084.34,696.354 1086.4,695.4 1088.47,694.418 1090.53,693.411 1092.59,692.38 1094.66,691.328 \n",
       "  1096.72,690.258 1098.78,689.173 1100.84,688.074 1102.91,686.964 1104.97,685.844 1107.03,684.717 1109.09,683.585 1111.16,682.449 1113.22,681.312 1115.28,680.175 \n",
       "  1117.34,679.04 1119.41,677.908 1121.47,676.782 1123.53,675.661 1125.59,674.549 1127.66,673.445 1129.72,672.352 1131.78,671.271 1133.84,670.202 1135.91,669.148 \n",
       "  1137.97,668.108 1140.03,667.084 1142.09,666.076 1144.16,665.087 1146.22,664.115 1148.28,663.162 1150.34,662.229 1152.41,661.315 1154.47,660.423 1156.53,659.551 \n",
       "  1158.59,658.701 1160.66,657.872 1162.72,657.065 1164.78,656.28 1166.84,655.518 1168.91,654.778 1170.97,654.06 1173.03,653.365 1175.1,652.693 1177.16,652.042 \n",
       "  1179.22,651.414 1181.28,650.808 1183.35,650.223 1185.41,649.661 1187.47,649.119 1189.53,648.599 1191.6,648.1 1193.66,647.621 1195.72,647.162 1197.78,646.724 \n",
       "  1199.85,646.304 1201.91,645.904 1203.97,645.522 1206.03,645.158 1208.1,644.813 1210.16,644.485 1212.22,644.173 1214.28,643.879 1216.35,643.6 1218.41,643.338 \n",
       "  1220.47,643.091 1222.53,642.858 1224.6,642.641 1226.66,642.438 1228.72,642.248 1230.78,642.073 1232.85,641.91 1234.91,641.761 1236.97,641.624 1239.03,641.5 \n",
       "  1241.1,641.387 1243.16,641.287 1245.22,641.198 1247.28,641.121 1249.35,641.055 1251.41,641.001 1253.47,640.957 1255.53,640.924 1257.6,640.903 1259.66,640.892 \n",
       "  1261.72,640.892 1263.79,640.903 1265.85,640.924 1267.91,640.957 1269.97,641.001 1272.04,641.055 1274.1,641.121 1276.16,641.198 1278.22,641.287 1280.29,641.387 \n",
       "  1282.35,641.5 1284.41,641.624 1286.47,641.761 1288.54,641.91 1290.6,642.073 1292.66,642.248 1294.72,642.438 1296.79,642.641 1298.85,642.858 1300.91,643.091 \n",
       "  1302.97,643.338 1305.04,643.6 1307.1,643.879 1309.16,644.173 1311.22,644.485 1313.29,644.813 1315.35,645.158 1317.41,645.522 1319.47,645.904 1321.54,646.304 \n",
       "  1323.6,646.724 1325.66,647.162 1327.72,647.621 1329.79,648.1 1331.85,648.599 1333.91,649.119 1335.97,649.661 1338.04,650.223 1340.1,650.808 1342.16,651.414 \n",
       "  1344.23,652.042 1346.29,652.693 1348.35,653.365 1350.41,654.06 1352.48,654.778 1354.54,655.518 1356.6,656.28 1358.66,657.065 1360.73,657.872 1362.79,658.701 \n",
       "  1364.85,659.551 1366.91,660.423 1368.98,661.315 1371.04,662.229 1373.1,663.162 1375.16,664.115 1377.23,665.087 1379.29,666.076 1381.35,667.084 1383.41,668.108 \n",
       "  1385.48,669.148 1387.54,670.202 1389.6,671.271 1391.66,672.352 1393.73,673.445 1395.79,674.549 1397.85,675.661 1399.91,676.782 1401.98,677.908 1404.04,679.04 \n",
       "  1406.1,680.175 1408.16,681.312 1410.23,682.449 1412.29,683.585 1414.35,684.717 1416.41,685.844 1418.48,686.964 1420.54,688.074 1422.6,689.173 1424.67,690.258 \n",
       "  1426.73,691.328 1428.79,692.38 1430.85,693.411 1432.92,694.418 1434.98,695.4 1437.04,696.354 1439.1,697.276 1441.17,698.164 1443.23,699.014 1445.29,699.824 \n",
       "  1447.35,700.589 1449.42,701.307 1451.48,701.974 1453.54,702.585 1455.6,703.137 1457.67,703.626 1459.73,704.047 1461.79,704.395 1463.85,704.666 1465.92,704.854 \n",
       "  1467.98,704.956 1470.04,704.964 1472.1,704.873 1474.17,704.678 1476.23,704.372 1478.29,703.95 1480.35,703.405 1482.42,702.729 1484.48,701.918 1486.54,700.964 \n",
       "  1488.6,699.859 1490.67,698.598 1492.73,697.174 1494.79,695.579 1496.85,693.807 1498.92,691.852 1500.98,689.708 1503.04,687.368 1505.1,684.827 1507.17,682.081 \n",
       "  1509.23,679.124 1511.29,675.953 1513.36,672.565 1515.42,668.959 1517.48,665.131 1519.54,661.084 1521.61,656.818 1523.67,652.334 1525.73,647.638 1527.79,642.735 \n",
       "  1529.86,637.63 1531.92,632.334 1533.98,626.856 1536.04,621.209 1538.11,615.406 1540.17,609.464 1542.23,603.401 1544.29,597.237 1546.36,590.995 1548.42,584.698 \n",
       "  1550.48,578.373 1552.54,572.048 1554.61,565.753 1556.67,559.52 1558.73,553.382 1560.79,547.373 1562.86,541.531 1564.92,535.892 1566.98,530.494 1569.04,525.376 \n",
       "  1571.11,520.576 1573.17,516.133 1575.23,512.087 1577.29,508.474 1579.36,505.332 1581.42,502.695 1583.48,500.597 1585.54,499.07 1587.61,498.142 1589.67,497.839 \n",
       "  1591.73,498.183 1593.8,499.193 1595.86,500.883 1597.92,503.264 1599.98,506.341 1602.05,510.114 1604.11,514.58 1606.17,519.727 1608.23,525.541 1610.3,532.001 \n",
       "  1612.36,539.08 1614.42,546.747 1616.48,554.963 1618.55,563.686 1620.61,572.868 1622.67,582.458 1624.73,592.398 1626.8,602.628 1628.86,613.084 1630.92,623.699 \n",
       "  1632.98,634.403 1635.05,645.128 1637.11,655.8 1639.17,666.347 1641.23,676.7 1643.3,686.787 1645.36,696.542 1647.42,705.898 1649.48,714.795 1651.55,723.176 \n",
       "  1653.61,730.988 1655.67,738.186 1657.73,744.729 1659.8,750.584 1661.86,755.726 1663.92,760.135 1665.98,763.801 1668.05,766.721 1670.11,768.901 1672.17,770.354 \n",
       "  1674.24,771.102 1676.3,771.172 1678.36,770.601 1680.42,769.432 1682.49,767.711 1684.55,765.494 1686.61,762.838 1688.67,759.805 1690.74,756.459 1692.8,752.866 \n",
       "  1694.86,749.093 1696.92,745.204 1698.99,741.265 1701.05,737.336 1703.11,733.476 1705.17,729.736 1707.24,726.165 1709.3,722.801 1711.36,719.679 1713.42,716.821 \n",
       "  1715.49,714.246 1717.55,711.958 1719.61,709.956 1721.67,708.228 1723.74,706.751 1725.8,705.497 1727.86,704.424 1729.92,703.485 1731.99,702.625 1734.05,701.783 \n",
       "  1736.11,700.889 1738.17,699.873 1740.24,698.659 1742.3,697.169 1744.36,695.326 1746.42,693.053 1748.49,690.277 1750.55,686.927 1752.61,682.939 1754.67,678.256 \n",
       "  1756.74,672.829 1758.8,666.619 1760.86,659.599 1762.93,651.752 1764.99,643.075 1767.05,633.58 1769.11,623.29 1771.18,612.245 1773.24,600.499 1775.3,588.119 \n",
       "  1777.36,575.187 1779.43,561.798 1781.49,548.059 1783.55,534.088 1785.61,520.014 1787.68,505.973 1789.74,492.109 1791.8,478.57 1793.86,465.507 1795.93,453.072 \n",
       "  1797.99,441.416 1800.05,430.685 1802.11,421.022 1804.18,412.56 1806.24,405.421 1808.3,399.718 1810.36,395.547 1812.43,392.991 1814.49,392.113 1816.55,392.958 \n",
       "  1818.61,395.554 1820.68,399.904 1822.74,405.992 1824.8,413.78 1826.86,423.207 1828.93,434.194 1830.99,446.637 1833.05,460.414 1835.11,475.383 1837.18,491.386 \n",
       "  1839.24,508.248 1841.3,525.78 1843.37,543.781 1845.43,562.04 1847.49,580.34 1849.55,598.459 1851.62,616.172 1853.68,633.255 1855.74,649.488 1857.8,664.658 \n",
       "  1859.87,678.558 1861.93,690.994 1863.99,701.787 1866.05,710.773 1868.12,717.804 1870.18,722.756 1872.24,725.523 1874.3,726.024 1876.37,724.203 1878.43,720.026 \n",
       "  1880.49,713.488 1882.55,704.608 1884.62,693.429 1886.68,680.023 1888.74,664.484 1890.8,646.931 1892.87,627.504 1894.93,606.365 1896.99,583.695 1899.05,559.693 \n",
       "  1901.12,534.573 1903.18,508.561 1905.24,481.894 1907.3,454.818 1909.37,427.584 1911.43,400.446 1913.49,373.658 1915.55,347.472 1917.62,322.137 1919.68,297.891 \n",
       "  1921.74,274.967 1923.8,253.583 1925.87,233.945 1927.93,216.243 1929.99,200.651 1932.06,187.322 1934.12,176.39 1936.18,167.969 1938.24,162.152 1940.31,159.006 \n",
       "  1942.37,158.579 1944.43,160.896 1946.49,165.957 1948.56,173.743 1950.62,184.211 1952.68,197.299 1954.74,212.923 1956.81,230.982 1958.87,251.358 1960.93,273.914 \n",
       "  1962.99,298.502 1965.06,324.958 1967.12,353.109 1969.18,382.771 1971.24,413.753 1973.31,445.857 1975.37,478.883 1977.43,512.625 1979.49,546.88 1981.56,581.443 \n",
       "  1983.62,616.113 1985.68,650.693 1987.74,684.992 1989.81,718.824 1991.87,752.012 1993.93,784.39 1995.99,815.799 1998.06,846.093 2000.12,875.137 2002.18,902.808 \n",
       "  2004.24,928.998 2006.31,953.609 2008.37,976.558 2010.43,997.775 2012.5,1017.2 2014.56,1034.8 2016.62,1050.54 2018.68,1064.39 2020.75,1076.36 2022.81,1086.46 \n",
       "  2024.87,1094.69 2026.93,1101.1 2029,1105.71 2031.06,1108.57 2033.12,1109.75 2035.18,1109.3 2037.25,1107.29 2039.31,1103.81 2041.37,1098.92 2043.43,1092.73 \n",
       "  2045.5,1085.32 2047.56,1076.77 2049.62,1067.19 2051.68,1056.68 2053.75,1045.32 2055.81,1033.21 2057.87,1020.45 2059.93,1007.14 2062,993.367 2064.06,979.219 \n",
       "  2066.12,964.785 2068.18,950.152 2070.25,935.398 2072.31,920.603 2074.37,905.838 2076.43,891.172 2078.5,876.671 2080.56,862.394 2082.62,848.397 2084.68,834.729 \n",
       "  2086.75,821.438 2088.81,808.563 2090.87,796.142 2092.94,784.207 2095,772.785 2097.06,761.9 2099.12,751.57 2101.19,741.811 2103.25,732.634 2105.31,724.046 \n",
       "  2107.37,716.051 2109.44,708.651 2111.5,701.844 2113.56,695.624 2115.62,689.983 2117.69,684.913 2119.75,680.402 2121.81,676.434 2123.87,672.995 2125.94,670.068 \n",
       "  2128,667.634 2130.06,665.675 2132.12,664.169 2134.19,663.095 2136.25,662.432 2138.31,662.158 2140.37,662.251 2142.44,662.687 2144.5,663.445 2146.56,664.503 \n",
       "  2148.62,665.837 2150.69,667.427 2152.75,669.251 2154.81,671.288 2156.87,673.518 2158.94,675.922 2161,678.479 2163.06,681.173 2165.12,683.985 2167.19,686.898 \n",
       "  2169.25,689.897 2171.31,692.966 2173.37,696.092 2175.44,699.26 2177.5,702.457 2179.56,705.673 2181.63,708.896 2183.69,712.115 2185.75,715.321 2187.81,718.506 \n",
       "  2189.88,721.661 2191.94,724.779 2194,727.853 2196.06,730.878 2198.13,733.848 2200.19,736.759 2202.25,739.605 2204.31,742.385 2206.38,745.093 2208.44,747.729 \n",
       "  2210.5,750.289 2212.56,752.773 2214.63,755.178 2216.69,757.503 2218.75,759.749 2220.81,761.913 2222.88,763.998 2224.94,766.002 2227,767.925 2229.06,769.77 \n",
       "  2231.13,771.535 2233.19,773.223 2235.25,774.834 2237.31,776.369 2239.38,777.83 2241.44,779.218 2243.5,780.535 2245.56,781.781 2247.63,782.958 2249.69,784.069 \n",
       "  2251.75,785.114 2253.81,786.094 2255.88,787.012 2257.94,787.869 2260,788.666 2262.07,789.404 2264.13,790.086 2266.19,790.711 2268.25,791.282 2270.32,791.799 \n",
       "  2272.38,792.264 2274.44,792.678 2276.5,793.04 2278.57,793.353 2280.63,793.616 2282.69,793.831 2284.75,793.998 2286.82,794.116 2288.88,794.187 2290.94,794.211 \n",
       "  \n",
       "  \"/>\n",
       "<polyline clip-path=\"url(#clip872)\" style=\"stroke:#e26f46; stroke-width:3.2; stroke-opacity:1; fill:none\" points=\"\n",
       "  230.442,830.728 232.504,830.749 234.567,830.812 236.63,830.917 238.692,831.063 240.755,831.251 242.817,831.479 244.88,831.747 246.942,832.055 249.005,832.401 \n",
       "  251.067,832.784 253.13,833.203 255.193,833.657 257.255,834.145 259.318,834.664 261.38,835.214 263.443,835.792 265.505,836.396 267.568,837.024 269.631,837.673 \n",
       "  271.693,838.342 273.756,839.027 275.818,839.725 277.881,840.433 279.943,841.148 282.006,841.867 284.068,842.584 286.131,843.297 288.194,844.001 290.256,844.692 \n",
       "  292.319,845.365 294.381,846.015 296.444,846.636 298.506,847.224 300.569,847.773 302.632,848.276 304.694,848.729 306.757,849.123 308.819,849.453 310.882,849.712 \n",
       "  312.944,849.893 315.007,849.989 317.069,849.991 319.132,849.894 321.195,849.688 323.257,849.366 325.32,848.92 327.382,848.342 329.445,847.625 331.507,846.759 \n",
       "  333.57,845.736 335.633,844.55 337.695,843.192 339.758,841.653 341.82,839.928 343.883,838.007 345.945,835.886 348.008,833.556 350.07,831.012 352.133,828.248 \n",
       "  354.196,825.259 356.258,822.042 358.321,818.592 360.383,814.907 362.446,810.985 364.508,806.825 366.571,802.427 368.633,797.793 370.696,792.926 372.759,787.83 \n",
       "  374.821,782.511 376.884,776.974 378.946,771.231 381.009,765.289 383.071,759.163 385.134,752.866 387.197,746.414 389.259,739.825 391.322,733.12 393.384,726.32 \n",
       "  395.447,719.45 397.509,712.536 399.572,705.608 401.634,698.695 403.697,691.832 405.76,685.052 407.822,678.395 409.885,671.898 411.947,665.604 414.01,659.554 \n",
       "  416.072,653.795 418.135,648.372 420.198,643.333 422.26,638.727 424.323,634.605 426.385,631.016 428.448,628.011 430.51,625.643 432.573,623.963 434.635,623.02 \n",
       "  436.698,622.866 438.761,623.549 440.823,625.115 442.886,627.611 444.948,631.079 447.011,635.559 449.073,641.088 451.136,647.698 453.199,655.419 455.261,664.273 \n",
       "  457.324,674.281 459.386,685.455 461.449,697.803 463.511,711.325 465.574,726.016 467.636,741.862 469.699,758.844 471.762,776.931 473.824,796.089 475.887,816.272 \n",
       "  477.949,837.426 480.012,859.491 482.074,882.395 484.137,906.061 486.2,930.4 488.262,955.317 490.325,980.709 492.387,1006.46 494.45,1032.47 496.512,1058.59 \n",
       "  498.575,1084.69 500.637,1110.65 502.7,1136.33 504.763,1161.56 506.825,1186.21 508.888,1210.12 510.95,1233.15 513.013,1255.14 515.075,1275.94 517.138,1295.4 \n",
       "  519.2,1313.38 521.263,1329.74 523.326,1344.34 525.388,1357.06 527.451,1367.78 529.513,1376.4 531.576,1382.81 533.638,1386.94 535.701,1388.71 537.764,1388.08 \n",
       "  539.826,1384.98 541.889,1379.42 543.951,1371.36 546.014,1360.84 548.076,1347.87 550.139,1332.5 552.201,1314.8 554.264,1294.85 556.327,1272.76 558.389,1248.63 \n",
       "  560.452,1222.62 562.514,1194.87 564.577,1165.55 566.639,1134.84 568.702,1102.95 570.765,1070.08 572.827,1036.45 574.89,1002.29 576.952,967.827 579.015,933.304 \n",
       "  581.077,898.962 583.14,865.041 585.202,831.78 587.265,799.415 589.328,768.173 591.39,738.275 593.453,709.931 595.515,683.335 597.578,658.67 599.64,636.099 \n",
       "  601.703,615.769 603.766,597.804 605.828,582.309 607.891,569.364 609.953,559.027 612.016,551.331 614.078,546.282 616.141,543.863 618.203,544.031 620.266,546.72 \n",
       "  622.329,551.837 624.391,559.268 626.454,568.875 628.516,580.501 630.579,593.969 632.641,609.087 634.704,625.644 636.767,643.421 638.829,662.184 640.892,681.696 \n",
       "  642.954,701.711 645.017,721.983 647.079,742.266 649.142,762.316 651.204,781.897 653.267,800.779 655.33,818.746 657.392,835.593 659.455,851.131 661.517,865.189 \n",
       "  663.58,877.617 665.642,888.284 667.705,897.082 669.767,903.926 671.83,908.756 673.893,911.534 675.955,912.25 678.018,910.916 680.08,907.567 682.143,902.263 \n",
       "  684.205,895.085 686.268,886.134 688.331,875.529 690.393,863.407 692.456,849.922 694.518,835.236 696.581,819.525 698.643,802.972 700.706,785.766 702.768,768.097 \n",
       "  704.831,750.157 706.894,732.137 708.956,714.221 711.019,696.588 713.081,679.408 715.144,662.84 717.206,647.031 719.269,632.112 721.332,618.202 723.394,605.399 \n",
       "  725.457,593.788 727.519,583.434 729.582,574.383 731.644,566.665 733.707,560.29 735.769,555.253 737.832,551.531 739.895,549.085 741.957,547.862 744.02,547.797 \n",
       "  746.082,548.811 748.145,550.816 750.207,553.719 752.27,557.415 754.333,561.798 756.395,566.759 758.458,572.188 760.52,577.974 762.583,584.012 764.645,590.198 \n",
       "  766.708,596.435 768.77,602.634 770.833,608.714 772.896,614.601 774.958,620.234 777.021,625.56 779.083,630.54 781.146,635.145 783.208,639.355 785.271,643.166 \n",
       "  787.334,646.581 789.396,649.614 791.459,652.291 793.521,654.644 795.584,656.714 797.646,658.549 799.709,660.202 801.771,661.731 803.834,663.197 805.897,664.664 \n",
       "  807.959,666.194 810.022,667.85 812.084,669.694 814.147,671.784 816.209,674.173 818.272,676.91 820.334,680.039 822.397,683.595 824.46,687.606 826.522,692.095 \n",
       "  828.585,697.072 830.647,702.543 832.71,708.502 834.772,714.937 836.835,721.825 838.898,729.138 840.96,736.838 843.023,744.881 845.085,753.215 847.148,761.784 \n",
       "  849.21,770.527 851.273,779.377 853.335,788.266 855.398,797.122 857.461,805.872 859.523,814.443 861.586,822.762 863.648,830.757 865.711,838.36 867.773,845.504 \n",
       "  869.836,852.127 871.899,858.171 873.961,863.583 876.024,868.316 878.086,872.329 880.149,875.587 882.211,878.064 884.274,879.737 886.336,880.594 888.399,880.629 \n",
       "  890.462,879.84 892.524,878.236 894.587,875.831 896.649,872.645 898.712,868.704 900.774,864.041 902.837,858.692 904.9,852.699 906.962,846.107 909.025,838.967 \n",
       "  911.087,831.331 913.15,823.252 915.212,814.789 917.275,805.998 919.337,796.939 921.4,787.669 923.463,778.248 925.525,768.732 927.588,759.177 929.65,749.639 \n",
       "  931.713,740.168 933.775,730.814 935.838,721.625 937.901,712.645 939.963,703.912 942.026,695.465 944.088,687.337 946.151,679.559 948.213,672.154 950.276,665.148 \n",
       "  952.338,658.557 954.401,652.397 956.464,646.68 958.526,641.413 960.589,636.602 962.651,632.248 964.714,628.35 966.776,624.905 968.839,621.905 970.901,619.342 \n",
       "  972.964,617.205 975.027,615.482 977.089,614.158 979.152,613.218 981.214,612.644 983.277,612.419 985.339,612.524 987.402,612.94 989.465,613.647 991.527,614.625 \n",
       "  993.59,615.855 995.652,617.316 997.715,618.99 999.777,620.856 1001.84,622.896 1003.9,625.091 1005.97,627.424 1008.03,629.878 1010.09,632.437 1012.15,635.084 \n",
       "  1014.22,637.806 1016.28,640.588 1018.34,643.418 1020.4,646.283 1022.47,649.172 1024.53,652.075 1026.59,654.982 1028.65,657.883 1030.72,660.772 1032.78,663.64 \n",
       "  1034.84,666.481 1036.9,669.289 1038.97,672.059 1041.03,674.785 1043.09,677.465 1045.15,680.093 1047.22,682.667 1049.28,685.185 1051.34,687.643 1053.4,690.04 \n",
       "  1055.47,692.374 1057.53,694.644 1059.59,696.849 1061.65,698.988 1063.72,701.06 1065.78,703.066 1067.84,705.004 1069.9,706.875 1071.97,708.679 1074.03,710.415 \n",
       "  1076.09,712.086 1078.15,713.69 1080.22,715.228 1082.28,716.701 1084.34,718.11 1086.4,719.454 1088.47,720.736 1090.53,721.955 1092.59,723.112 1094.66,724.209 \n",
       "  1096.72,725.246 1098.78,726.224 1100.84,727.144 1102.91,728.007 1104.97,728.815 1107.03,729.568 1109.09,730.267 1111.16,730.913 1113.22,731.508 1115.28,732.053 \n",
       "  1117.34,732.549 1119.41,732.997 1121.47,733.399 1123.53,733.755 1125.59,734.068 1127.66,734.338 1129.72,734.567 1131.78,734.756 1133.84,734.906 1135.91,735.02 \n",
       "  1137.97,735.098 1140.03,735.143 1142.09,735.154 1144.16,735.135 1146.22,735.085 1148.28,735.008 1150.34,734.903 1152.41,734.774 1154.47,734.62 1156.53,734.444 \n",
       "  1158.59,734.247 1160.66,734.031 1162.72,733.796 1164.78,733.545 1166.84,733.279 1168.91,732.998 1170.97,732.705 1173.03,732.401 1175.1,732.086 1177.16,731.763 \n",
       "  1179.22,731.432 1181.28,731.095 1183.35,730.752 1185.41,730.406 1187.47,730.057 1189.53,729.706 1191.6,729.354 1193.66,729.002 1195.72,728.652 1197.78,728.303 \n",
       "  1199.85,727.958 1201.91,727.616 1203.97,727.279 1206.03,726.948 1208.1,726.623 1210.16,726.305 1212.22,725.994 1214.28,725.692 1216.35,725.399 1218.41,725.115 \n",
       "  1220.47,724.841 1222.53,724.578 1224.6,724.326 1226.66,724.085 1228.72,723.857 1230.78,723.641 1232.85,723.438 1234.91,723.247 1236.97,723.071 1239.03,722.908 \n",
       "  1241.1,722.759 1243.16,722.624 1245.22,722.503 1247.28,722.398 1249.35,722.307 1251.41,722.231 1253.47,722.17 1255.53,722.124 1257.6,722.094 1259.66,722.078 \n",
       "  1261.72,722.078 1263.79,722.094 1265.85,722.124 1267.91,722.17 1269.97,722.231 1272.04,722.307 1274.1,722.398 1276.16,722.503 1278.22,722.624 1280.29,722.759 \n",
       "  1282.35,722.908 1284.41,723.071 1286.47,723.247 1288.54,723.438 1290.6,723.641 1292.66,723.857 1294.72,724.085 1296.79,724.326 1298.85,724.578 1300.91,724.841 \n",
       "  1302.97,725.115 1305.04,725.399 1307.1,725.692 1309.16,725.994 1311.22,726.305 1313.29,726.623 1315.35,726.948 1317.41,727.279 1319.47,727.616 1321.54,727.958 \n",
       "  1323.6,728.303 1325.66,728.652 1327.72,729.002 1329.79,729.354 1331.85,729.706 1333.91,730.057 1335.97,730.406 1338.04,730.752 1340.1,731.095 1342.16,731.432 \n",
       "  1344.23,731.763 1346.29,732.086 1348.35,732.401 1350.41,732.705 1352.48,732.998 1354.54,733.279 1356.6,733.545 1358.66,733.796 1360.73,734.031 1362.79,734.247 \n",
       "  1364.85,734.444 1366.91,734.62 1368.98,734.774 1371.04,734.903 1373.1,735.008 1375.16,735.085 1377.23,735.135 1379.29,735.154 1381.35,735.143 1383.41,735.098 \n",
       "  1385.48,735.02 1387.54,734.906 1389.6,734.756 1391.66,734.567 1393.73,734.338 1395.79,734.068 1397.85,733.755 1399.91,733.399 1401.98,732.997 1404.04,732.549 \n",
       "  1406.1,732.053 1408.16,731.508 1410.23,730.913 1412.29,730.267 1414.35,729.568 1416.41,728.815 1418.48,728.007 1420.54,727.144 1422.6,726.224 1424.67,725.246 \n",
       "  1426.73,724.209 1428.79,723.112 1430.85,721.955 1432.92,720.736 1434.98,719.454 1437.04,718.11 1439.1,716.701 1441.17,715.228 1443.23,713.69 1445.29,712.086 \n",
       "  1447.35,710.415 1449.42,708.679 1451.48,706.875 1453.54,705.004 1455.6,703.066 1457.67,701.06 1459.73,698.988 1461.79,696.849 1463.85,694.644 1465.92,692.374 \n",
       "  1467.98,690.04 1470.04,687.643 1472.1,685.185 1474.17,682.667 1476.23,680.093 1478.29,677.465 1480.35,674.785 1482.42,672.059 1484.48,669.289 1486.54,666.481 \n",
       "  1488.6,663.64 1490.67,660.772 1492.73,657.883 1494.79,654.982 1496.85,652.075 1498.92,649.172 1500.98,646.283 1503.04,643.418 1505.1,640.588 1507.17,637.806 \n",
       "  1509.23,635.084 1511.29,632.437 1513.36,629.878 1515.42,627.424 1517.48,625.091 1519.54,622.896 1521.61,620.856 1523.67,618.99 1525.73,617.316 1527.79,615.855 \n",
       "  1529.86,614.625 1531.92,613.647 1533.98,612.94 1536.04,612.524 1538.11,612.419 1540.17,612.644 1542.23,613.218 1544.29,614.158 1546.36,615.482 1548.42,617.205 \n",
       "  1550.48,619.342 1552.54,621.905 1554.61,624.905 1556.67,628.35 1558.73,632.248 1560.79,636.602 1562.86,641.413 1564.92,646.68 1566.98,652.397 1569.04,658.557 \n",
       "  1571.11,665.148 1573.17,672.154 1575.23,679.559 1577.29,687.337 1579.36,695.465 1581.42,703.912 1583.48,712.645 1585.54,721.625 1587.61,730.814 1589.67,740.168 \n",
       "  1591.73,749.639 1593.8,759.177 1595.86,768.732 1597.92,778.248 1599.98,787.669 1602.05,796.939 1604.11,805.998 1606.17,814.789 1608.23,823.252 1610.3,831.331 \n",
       "  1612.36,838.967 1614.42,846.107 1616.48,852.699 1618.55,858.692 1620.61,864.041 1622.67,868.704 1624.73,872.645 1626.8,875.831 1628.86,878.236 1630.92,879.84 \n",
       "  1632.98,880.629 1635.05,880.594 1637.11,879.737 1639.17,878.064 1641.23,875.587 1643.3,872.329 1645.36,868.316 1647.42,863.583 1649.48,858.171 1651.55,852.127 \n",
       "  1653.61,845.504 1655.67,838.36 1657.73,830.757 1659.8,822.762 1661.86,814.443 1663.92,805.872 1665.98,797.122 1668.05,788.266 1670.11,779.377 1672.17,770.527 \n",
       "  1674.24,761.784 1676.3,753.215 1678.36,744.881 1680.42,736.838 1682.49,729.138 1684.55,721.825 1686.61,714.937 1688.67,708.502 1690.74,702.543 1692.8,697.072 \n",
       "  1694.86,692.095 1696.92,687.606 1698.99,683.595 1701.05,680.039 1703.11,676.91 1705.17,674.173 1707.24,671.784 1709.3,669.694 1711.36,667.85 1713.42,666.194 \n",
       "  1715.49,664.664 1717.55,663.197 1719.61,661.731 1721.67,660.202 1723.74,658.549 1725.8,656.714 1727.86,654.644 1729.92,652.291 1731.99,649.614 1734.05,646.581 \n",
       "  1736.11,643.166 1738.17,639.355 1740.24,635.145 1742.3,630.54 1744.36,625.56 1746.42,620.234 1748.49,614.601 1750.55,608.714 1752.61,602.634 1754.67,596.435 \n",
       "  1756.74,590.198 1758.8,584.012 1760.86,577.974 1762.93,572.188 1764.99,566.759 1767.05,561.798 1769.11,557.415 1771.18,553.719 1773.24,550.816 1775.3,548.811 \n",
       "  1777.36,547.797 1779.43,547.862 1781.49,549.085 1783.55,551.531 1785.61,555.253 1787.68,560.29 1789.74,566.665 1791.8,574.383 1793.86,583.434 1795.93,593.788 \n",
       "  1797.99,605.399 1800.05,618.202 1802.11,632.112 1804.18,647.031 1806.24,662.84 1808.3,679.408 1810.36,696.588 1812.43,714.221 1814.49,732.137 1816.55,750.157 \n",
       "  1818.61,768.097 1820.68,785.766 1822.74,802.972 1824.8,819.525 1826.86,835.236 1828.93,849.922 1830.99,863.407 1833.05,875.529 1835.11,886.134 1837.18,895.085 \n",
       "  1839.24,902.263 1841.3,907.567 1843.37,910.916 1845.43,912.25 1847.49,911.534 1849.55,908.756 1851.62,903.926 1853.68,897.082 1855.74,888.284 1857.8,877.617 \n",
       "  1859.87,865.189 1861.93,851.131 1863.99,835.593 1866.05,818.746 1868.12,800.779 1870.18,781.897 1872.24,762.316 1874.3,742.266 1876.37,721.983 1878.43,701.711 \n",
       "  1880.49,681.696 1882.55,662.184 1884.62,643.421 1886.68,625.644 1888.74,609.087 1890.8,593.969 1892.87,580.501 1894.93,568.875 1896.99,559.268 1899.05,551.837 \n",
       "  1901.12,546.72 1903.18,544.031 1905.24,543.863 1907.3,546.282 1909.37,551.331 1911.43,559.027 1913.49,569.364 1915.55,582.309 1917.62,597.804 1919.68,615.769 \n",
       "  1921.74,636.099 1923.8,658.67 1925.87,683.335 1927.93,709.931 1929.99,738.275 1932.06,768.173 1934.12,799.415 1936.18,831.78 1938.24,865.041 1940.31,898.962 \n",
       "  1942.37,933.304 1944.43,967.827 1946.49,1002.29 1948.56,1036.45 1950.62,1070.08 1952.68,1102.95 1954.74,1134.84 1956.81,1165.55 1958.87,1194.87 1960.93,1222.62 \n",
       "  1962.99,1248.63 1965.06,1272.76 1967.12,1294.85 1969.18,1314.8 1971.24,1332.5 1973.31,1347.87 1975.37,1360.84 1977.43,1371.36 1979.49,1379.42 1981.56,1384.98 \n",
       "  1983.62,1388.08 1985.68,1388.71 1987.74,1386.94 1989.81,1382.81 1991.87,1376.4 1993.93,1367.78 1995.99,1357.06 1998.06,1344.34 2000.12,1329.74 2002.18,1313.38 \n",
       "  2004.24,1295.4 2006.31,1275.94 2008.37,1255.14 2010.43,1233.15 2012.5,1210.12 2014.56,1186.21 2016.62,1161.56 2018.68,1136.33 2020.75,1110.65 2022.81,1084.69 \n",
       "  2024.87,1058.59 2026.93,1032.47 2029,1006.46 2031.06,980.709 2033.12,955.317 2035.18,930.4 2037.25,906.061 2039.31,882.395 2041.37,859.491 2043.43,837.426 \n",
       "  2045.5,816.272 2047.56,796.089 2049.62,776.931 2051.68,758.844 2053.75,741.862 2055.81,726.016 2057.87,711.325 2059.93,697.803 2062,685.455 2064.06,674.281 \n",
       "  2066.12,664.273 2068.18,655.419 2070.25,647.698 2072.31,641.088 2074.37,635.559 2076.43,631.079 2078.5,627.611 2080.56,625.115 2082.62,623.549 2084.68,622.866 \n",
       "  2086.75,623.02 2088.81,623.963 2090.87,625.643 2092.94,628.011 2095,631.016 2097.06,634.605 2099.12,638.727 2101.19,643.333 2103.25,648.372 2105.31,653.795 \n",
       "  2107.37,659.554 2109.44,665.604 2111.5,671.898 2113.56,678.395 2115.62,685.052 2117.69,691.832 2119.75,698.695 2121.81,705.608 2123.87,712.536 2125.94,719.45 \n",
       "  2128,726.32 2130.06,733.12 2132.12,739.825 2134.19,746.414 2136.25,752.866 2138.31,759.163 2140.37,765.289 2142.44,771.231 2144.5,776.974 2146.56,782.511 \n",
       "  2148.62,787.83 2150.69,792.926 2152.75,797.793 2154.81,802.427 2156.87,806.825 2158.94,810.985 2161,814.907 2163.06,818.592 2165.12,822.042 2167.19,825.259 \n",
       "  2169.25,828.248 2171.31,831.012 2173.37,833.556 2175.44,835.886 2177.5,838.007 2179.56,839.928 2181.63,841.653 2183.69,843.192 2185.75,844.55 2187.81,845.736 \n",
       "  2189.88,846.759 2191.94,847.625 2194,848.342 2196.06,848.92 2198.13,849.366 2200.19,849.688 2202.25,849.894 2204.31,849.991 2206.38,849.989 2208.44,849.893 \n",
       "  2210.5,849.712 2212.56,849.453 2214.63,849.123 2216.69,848.729 2218.75,848.276 2220.81,847.773 2222.88,847.224 2224.94,846.636 2227,846.015 2229.06,845.365 \n",
       "  2231.13,844.692 2233.19,844.001 2235.25,843.297 2237.31,842.584 2239.38,841.867 2241.44,841.148 2243.5,840.433 2245.56,839.725 2247.63,839.027 2249.69,838.342 \n",
       "  2251.75,837.673 2253.81,837.024 2255.88,836.396 2257.94,835.792 2260,835.214 2262.07,834.664 2264.13,834.145 2266.19,833.657 2268.25,833.203 2270.32,832.784 \n",
       "  2272.38,832.401 2274.44,832.055 2276.5,831.747 2278.57,831.479 2280.63,831.251 2282.69,831.063 2284.75,830.917 2286.82,830.812 2288.88,830.749 2290.94,830.728 \n",
       "  \n",
       "  \"/>\n",
       "<path clip-path=\"url(#clip870)\" d=\"\n",
       "M1733.13 386.635 L2280.76 386.635 L2280.76 205.195 L1733.13 205.195  Z\n",
       "  \" fill=\"#ffffff\" fill-rule=\"evenodd\" fill-opacity=\"1\"/>\n",
       "<polyline clip-path=\"url(#clip870)\" style=\"stroke:#000000; stroke-width:3.2; stroke-opacity:1; fill:none\" points=\"\n",
       "  1733.13,386.635 2280.76,386.635 2280.76,205.195 1733.13,205.195 1733.13,386.635 \n",
       "  \"/>\n",
       "<polyline clip-path=\"url(#clip870)\" style=\"stroke:#009af9; stroke-width:3.2; stroke-opacity:1; fill:none\" points=\"\n",
       "  1757.13,265.675 1901.13,265.675 \n",
       "  \"/>\n",
       "<g clip-path=\"url(#clip870)\">\n",
       "<text style=\"fill:#000000; fill-opacity:1; font-family:Arial,Helvetica Neue,Helvetica,sans-serif; font-size:48px; text-anchor:start;\" transform=\"rotate(0, 1925.13, 283.175)\" x=\"1925.13\" y=\"283.175\">Real part</text>\n",
       "</g>\n",
       "<polyline clip-path=\"url(#clip870)\" style=\"stroke:#e26f46; stroke-width:3.2; stroke-opacity:1; fill:none\" points=\"\n",
       "  1757.13,326.155 1901.13,326.155 \n",
       "  \"/>\n",
       "<g clip-path=\"url(#clip870)\">\n",
       "<text style=\"fill:#000000; fill-opacity:1; font-family:Arial,Helvetica Neue,Helvetica,sans-serif; font-size:48px; text-anchor:start;\" transform=\"rotate(0, 1925.13, 343.655)\" x=\"1925.13\" y=\"343.655\">Imaginary part</text>\n",
       "</g>\n",
       "</svg>\n"
      ]
     },
     "execution_count": 11,
     "metadata": {},
     "output_type": "execute_result"
    }
   ],
   "source": [
    "θ = collect(range(0, stop=2π,length=1000))\n",
    "F = FarField(θ,V,coeffs,k)\n",
    "plot(θ,[real(F), imag(F)],label = [\"Real part\" \"Imaginary part\"], title = \"Far-field pattern\")\n",
    "xlabel!(\"observation angle\")"
   ]
  },
  {
   "cell_type": "code",
   "execution_count": null,
   "metadata": {},
   "outputs": [],
   "source": []
  }
 ],
 "metadata": {
  "kernelspec": {
   "display_name": "Julia 1.3.0",
   "language": "julia",
   "name": "julia-1.3"
  },
  "language_info": {
   "file_extension": ".jl",
   "mimetype": "application/julia",
   "name": "julia",
   "version": "1.3.0"
  }
 },
 "nbformat": 4,
 "nbformat_minor": 2
}
